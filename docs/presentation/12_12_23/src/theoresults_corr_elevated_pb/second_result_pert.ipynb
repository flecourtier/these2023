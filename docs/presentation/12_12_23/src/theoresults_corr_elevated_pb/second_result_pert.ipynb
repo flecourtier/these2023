{
  "cells": [
    {
      "attachments": {},
      "cell_type": "markdown",
      "metadata": {
        "id": "msyPYqBMaewY"
      },
      "source": [
        "# Correction on a disturbed solution"
      ]
    },
    {
      "cell_type": "code",
      "execution_count": 3,
      "metadata": {},
      "outputs": [],
      "source": [
        "import sys\n",
        "sys.path.append('../')"
      ]
    },
    {
      "cell_type": "code",
      "execution_count": 4,
      "metadata": {},
      "outputs": [
        {
          "name": "stderr",
          "output_type": "stream",
          "text": [
            "bash: /home/lecourtier/anaconda3/envs/env_tensorflow/lib/libtinfo.so.6: no version information available (required by bash)\n",
            "bash: /home/lecourtier/anaconda3/envs/env_tensorflow/lib/libtinfo.so.6: no version information available (required by bash)\n"
          ]
        }
      ],
      "source": [
        "from utils import *\n",
        "config = read_json_file()\n",
        "\n",
        "method = \"fem\"\n",
        "from solver_fem import *\n",
        "ClassSolver = FEMSolver\n",
        "\n",
        "geometry = \"circle\"\n",
        "from data_square import *\n",
        "int_a = -0.5\n",
        "int_b = 1.5\n",
        "\n",
        "# homogeneous = config[\"homogeneous\"]\n",
        "homogeneous = 1\n",
        "S,Sp = (0.5,0.5)\n",
        "pp = 0.\n",
        "p = 0."
      ]
    },
    {
      "cell_type": "code",
      "execution_count": 5,
      "metadata": {},
      "outputs": [],
      "source": [
        "import os\n",
        "\n",
        "# result_dir = \"results/\"\n",
        "# if not os.path.exists(result_dir):\n",
        "#     os.makedirs(result_dir)\n",
        "\n",
        "# if homogeneous:\n",
        "#     result_dir += \"homogeneous/\"\n",
        "#     if not os.path.exists(result_dir):\n",
        "#         os.makedirs(result_dir)\n",
        "# else:\n",
        "#     result_dir += \"non_homogeneous/\"\n",
        "#     if not os.path.exists(result_dir):\n",
        "#         os.makedirs(result_dir)\n",
        "# result_dir += method+\"_\"+geometry+\"/\"\n",
        "# if not os.path.exists(result_dir):\n",
        "#         os.makedirs(result_dir)\n",
        "# print(result_dir)\n",
        "\n",
        "result_dir = \"results/second_result_pert/\"\n",
        "if not os.path.exists(result_dir):\n",
        "    os.makedirs(result_dir)"
      ]
    },
    {
      "cell_type": "code",
      "execution_count": 6,
      "metadata": {},
      "outputs": [],
      "source": [
        "import numpy as np\n",
        "import pandas as pd\n",
        "import cv2\n",
        "import dataframe_image as dfi\n",
        "from dolfin import *\n",
        "\n",
        "# noinspection PyUnresolvedReferences\n",
        "from dolfin import parameters\n",
        "import matplotlib.pyplot as plt\n",
        "\n",
        "parameters[\"ghost_mode\"] = \"shared_facet\"\n",
        "parameters[\"form_compiler\"][\"cpp_optimize\"] = True\n",
        "parameters[\"form_compiler\"][\"optimize\"] = True\n",
        "parameters[\"allow_extrapolation\"] = True\n",
        "parameters[\"form_compiler\"][\"representation\"] = \"uflacs\"\n",
        "parameters[\"form_compiler\"][\"quadrature_degree\"] = 10"
      ]
    },
    {
      "attachments": {},
      "cell_type": "markdown",
      "metadata": {
        "id": "vkCLrUb0aeww"
      },
      "source": [
        "## Data"
      ]
    },
    {
      "cell_type": "code",
      "execution_count": 7,
      "metadata": {
        "colab": {
          "base_uri": "https://localhost:8080/",
          "height": 435
        },
        "id": "jQ8Y6H3laewx",
        "outputId": "983bc020-b9c6-48d4-c452-c9ad54700619"
      },
      "outputs": [],
      "source": [
        "def test_omega():\n",
        "    mask = omega_mask(64)\n",
        "    plt.imshow(mask)\n",
        "    plt.colorbar()\n",
        "    plt.show()\n",
        "\n",
        "# test_omega()"
      ]
    },
    {
      "cell_type": "code",
      "execution_count": 8,
      "metadata": {
        "id": "NMcc8ITdaewz"
      },
      "outputs": [],
      "source": [
        "def plot_data(F,U):\n",
        "    mask = omega_mask(100)\n",
        "    plt.figure(figsize=(9,3))\n",
        "\n",
        "    plt.subplot(1,2,1)\n",
        "    plt.imshow(mask * F, origin=\"lower\")\n",
        "    plt.title(\"F\")\n",
        "    plt.colorbar()\n",
        "\n",
        "    plt.subplot(1,2,2)\n",
        "    plt.imshow(mask * U, origin=\"lower\")\n",
        "    plt.title(\"U_ex\")\n",
        "    plt.colorbar()\n",
        "\n",
        "    plt.tight_layout()\n",
        "    plt.show()\n",
        "\n",
        "def test():\n",
        "    f,fp = (4,1)\n",
        "    XXYY = get_vert_coord(nb_vert=100)\n",
        "    F = np.reshape(call_F(np,XXYY,S,f,p),[100,100])\n",
        "    U = np.reshape(call_Y_true(np,XXYY,S,f,p),[100,100])\n",
        "    plot_data(F,U)\n",
        "\n",
        "# test()"
      ]
    },
    {
      "cell_type": "markdown",
      "metadata": {},
      "source": [
        "## Results"
      ]
    },
    {
      "cell_type": "code",
      "execution_count": 13,
      "metadata": {},
      "outputs": [],
      "source": [
        "nb_vert = 32\n",
        "eps = 1e-3\n",
        "tab_m = [0]+[10**i for i in range(5)]\n",
        "tab_m_str = [\"m = \" + str(m) for m in tab_m]"
      ]
    },
    {
      "cell_type": "code",
      "execution_count": 14,
      "metadata": {},
      "outputs": [
        {
          "name": "stdout",
          "output_type": "stream",
          "text": [
            "params :  [[0.5, 1, 0.0], [0.5, 2, 0.0], [0.5, 3, 0.0], [0.5, 4, 0.0]]\n",
            "params_pert :  [[0.5, 2, 0.0], [0.5, 2, 0.0], [0.5, 2, 0.0], [0.5, 2, 0.0]]\n"
          ]
        }
      ],
      "source": [
        "freqs = [1,2,3,4]\n",
        "fp = 2\n",
        "params = []\n",
        "params_pert = []\n",
        "for f in freqs:\n",
        "    param = [S,f,p]\n",
        "    params.append(param)           \n",
        "    param_pert = [Sp,fp,pp]\n",
        "    params_pert.append(param_pert)\n",
        "print(\"params : \",params)\n",
        "print(\"params_pert : \",params_pert)\n",
        "freqs_str = [\"f = \" + str(f) for f in freqs]\n",
        "freqs_str = np.array(freqs_str)"
      ]
    },
    {
      "cell_type": "code",
      "execution_count": 15,
      "metadata": {},
      "outputs": [],
      "source": [
        "solver = ClassSolver(nb_cell=nb_vert-1, params=params, params_pert=params_pert)"
      ]
    },
    {
      "cell_type": "code",
      "execution_count": 16,
      "metadata": {},
      "outputs": [
        {
          "name": "stdout",
          "output_type": "stream",
          "text": [
            "eps :  0.001\n",
            "# i :  0\n",
            "## m =  0\n",
            "Solving linear variational problem.\n",
            "||Y_true-Y_true_corr||_L2 0.0003327669045357424\n",
            "## m =  1\n",
            "Solving linear variational problem.\n",
            "||Y_true-Y_true_corr||_L2 9.733560708660712e-05\n",
            "## m =  10\n",
            "Solving linear variational problem.\n",
            "||Y_true-Y_true_corr||_L2 6.77318481503643e-05\n",
            "## m =  100\n",
            "Solving linear variational problem.\n",
            "||Y_true-Y_true_corr||_L2 6.585493135179034e-05\n",
            "## m =  1000\n",
            "Solving linear variational problem.\n",
            "||Y_true-Y_true_corr||_L2 6.568714445192572e-05\n",
            "## m =  10000\n",
            "Solving linear variational problem.\n",
            "||Y_true-Y_true_corr||_L2 6.567057711658846e-05\n",
            "# i :  1\n",
            "## m =  0\n",
            "Solving linear variational problem.\n",
            "||Y_true-Y_true_corr||_L2 0.00016166247480995326\n",
            "## m =  1\n",
            "Solving linear variational problem.\n",
            "||Y_true-Y_true_corr||_L2 0.00023806639874890425\n",
            "## m =  10\n",
            "Solving linear variational problem.\n",
            "||Y_true-Y_true_corr||_L2 6.622383808419661e-05\n",
            "## m =  100\n",
            "Solving linear variational problem.\n",
            "||Y_true-Y_true_corr||_L2 6.56575185280913e-05\n",
            "## m =  1000\n",
            "Solving linear variational problem.\n",
            "||Y_true-Y_true_corr||_L2 6.566700756780353e-05\n",
            "## m =  10000\n",
            "Solving linear variational problem.\n",
            "||Y_true-Y_true_corr||_L2 6.566857196220024e-05\n",
            "# i :  2\n",
            "## m =  0\n",
            "Solving linear variational problem.\n",
            "||Y_true-Y_true_corr||_L2 0.0009013435586109691\n",
            "## m =  1\n",
            "Solving linear variational problem.\n",
            "||Y_true-Y_true_corr||_L2 0.00015757709803062916\n",
            "## m =  10\n",
            "Solving linear variational problem.\n",
            "||Y_true-Y_true_corr||_L2 6.681484768702302e-05\n",
            "## m =  100\n",
            "Solving linear variational problem.\n",
            "||Y_true-Y_true_corr||_L2 6.562806885571594e-05\n",
            "## m =  1000\n",
            "Solving linear variational problem.\n",
            "||Y_true-Y_true_corr||_L2 6.566311337235932e-05\n",
            "## m =  10000\n",
            "Solving linear variational problem.\n",
            "||Y_true-Y_true_corr||_L2 6.56682051292445e-05\n",
            "# i :  3\n",
            "## m =  0\n",
            "Solving linear variational problem.\n",
            "||Y_true-Y_true_corr||_L2 0.0009651472887997589\n",
            "## m =  1\n",
            "Solving linear variational problem.\n",
            "||Y_true-Y_true_corr||_L2 0.0002806783139906162\n",
            "## m =  10\n",
            "Solving linear variational problem.\n",
            "||Y_true-Y_true_corr||_L2 6.651167815311072e-05\n",
            "## m =  100\n",
            "Solving linear variational problem.\n",
            "||Y_true-Y_true_corr||_L2 6.562716821720373e-05\n",
            "## m =  1000\n",
            "Solving linear variational problem.\n",
            "||Y_true-Y_true_corr||_L2 6.566352946878924e-05\n",
            "## m =  10000\n",
            "Solving linear variational problem.\n",
            "||Y_true-Y_true_corr||_L2 6.56683978170776e-05\n"
          ]
        }
      ],
      "source": [
        "def test(eps,tab_m):\n",
        "    print(\"eps : \",eps)\n",
        "    tab_errors = []\n",
        "    for i in range(len(params)):\n",
        "        print(\"# i : \",i)\n",
        "        tab_error = []\n",
        "        for m in tab_m:\n",
        "            print(\"## m = \",m)\n",
        "            sol, C_h, norm_L2 = solver.corr_mult(i,eps,m)\n",
        "            print(\"||Y_true-Y_true_corr||_L2\",norm_L2)\n",
        "            tab_error.append(norm_L2)\n",
        "        tab_errors.append(tab_error)\n",
        "        \n",
        "    return tab_errors\n",
        "\n",
        "tab_errors = test(eps,tab_m)\n",
        "tab_errors = np.array(tab_errors)\n",
        "np.save(result_dir+\"tab_errors_\"+method+\"_\"+geometry+\".npy\",tab_errors)\n",
        "\n",
        "# tab_errors = np.load(result_dir+\"tab_errors_\"+method+\"_\"+geometry+\".npy\")"
      ]
    },
    {
      "cell_type": "code",
      "execution_count": 19,
      "metadata": {},
      "outputs": [
        {
          "data": {
            "text/html": [
              "<div>\n",
              "<style scoped>\n",
              "    .dataframe tbody tr th:only-of-type {\n",
              "        vertical-align: middle;\n",
              "    }\n",
              "\n",
              "    .dataframe tbody tr th {\n",
              "        vertical-align: top;\n",
              "    }\n",
              "\n",
              "    .dataframe thead th {\n",
              "        text-align: right;\n",
              "    }\n",
              "</style>\n",
              "<table border=\"1\" class=\"dataframe\">\n",
              "  <thead>\n",
              "    <tr style=\"text-align: right;\">\n",
              "      <th></th>\n",
              "      <th>m = 0</th>\n",
              "      <th>m = 1</th>\n",
              "      <th>m = 10</th>\n",
              "      <th>m = 100</th>\n",
              "      <th>m = 1000</th>\n",
              "      <th>m = 10000</th>\n",
              "    </tr>\n",
              "  </thead>\n",
              "  <tbody>\n",
              "    <tr>\n",
              "      <th>f = 1</th>\n",
              "      <td>0.000333</td>\n",
              "      <td>0.000097</td>\n",
              "      <td>0.000068</td>\n",
              "      <td>0.000066</td>\n",
              "      <td>0.000066</td>\n",
              "      <td>0.000066</td>\n",
              "    </tr>\n",
              "    <tr>\n",
              "      <th>f = 2</th>\n",
              "      <td>0.000162</td>\n",
              "      <td>0.000238</td>\n",
              "      <td>0.000066</td>\n",
              "      <td>0.000066</td>\n",
              "      <td>0.000066</td>\n",
              "      <td>0.000066</td>\n",
              "    </tr>\n",
              "    <tr>\n",
              "      <th>f = 3</th>\n",
              "      <td>0.000901</td>\n",
              "      <td>0.000158</td>\n",
              "      <td>0.000067</td>\n",
              "      <td>0.000066</td>\n",
              "      <td>0.000066</td>\n",
              "      <td>0.000066</td>\n",
              "    </tr>\n",
              "    <tr>\n",
              "      <th>f = 4</th>\n",
              "      <td>0.000965</td>\n",
              "      <td>0.000281</td>\n",
              "      <td>0.000067</td>\n",
              "      <td>0.000066</td>\n",
              "      <td>0.000066</td>\n",
              "      <td>0.000066</td>\n",
              "    </tr>\n",
              "  </tbody>\n",
              "</table>\n",
              "</div>"
            ],
            "text/plain": [
              "          m = 0     m = 1    m = 10   m = 100  m = 1000  m = 10000\n",
              "f = 1  0.000333  0.000097  0.000068  0.000066  0.000066   0.000066\n",
              "f = 2  0.000162  0.000238  0.000066  0.000066  0.000066   0.000066\n",
              "f = 3  0.000901  0.000158  0.000067  0.000066  0.000066   0.000066\n",
              "f = 4  0.000965  0.000281  0.000067  0.000066  0.000066   0.000066"
            ]
          },
          "execution_count": 19,
          "metadata": {},
          "output_type": "execute_result"
        }
      ],
      "source": [
        "df_errors = pd.DataFrame(tab_errors,index=freqs_str,columns=tab_m_str)\n",
        "df_errors"
      ]
    },
    {
      "cell_type": "code",
      "execution_count": 20,
      "metadata": {},
      "outputs": [
        {
          "data": {
            "text/plain": [
              "True"
            ]
          },
          "execution_count": 20,
          "metadata": {},
          "output_type": "execute_result"
        }
      ],
      "source": [
        "img_name = result_dir + \"tab_errors_\"+method+\"_\"+geometry+\".png\"\n",
        "df_styled = df_errors.style.format(\"{:.2e}\").set_properties(**{'background-color': '#ffffb3'}, subset=tab_m_str[4:])\n",
        "dfi.export(df_styled,img_name)\n",
        "\n",
        "image = cv2.imread(img_name)\n",
        "image[80,:,:] = 0.0\n",
        "cv2.imwrite(img_name,image)"
      ]
    },
    {
      "cell_type": "code",
      "execution_count": 21,
      "metadata": {},
      "outputs": [
        {
          "data": {
            "image/png": "[encoded data removed]",
            "text/plain": [
              "<Figure size 500x500 with 1 Axes>"
            ]
          },
          "metadata": {},
          "output_type": "display_data"
        }
      ],
      "source": [
        "plt.figure(figsize=(5,5))\n",
        "\n",
        "tab_colors=[\"blue\",\"orange\",\"green\",\"red\"]\n",
        "for (i,freq_str) in enumerate(freqs_str):\n",
        "    plt.semilogy(tab_errors[i],tab_colors[i],label=freq_str)\n",
        "\n",
        "plt.title(\"eps = \"+str(eps)+\" ; fp = \"+str(fp))\n",
        "plt.xticks(np.arange(0,len(tab_m),1),tab_m_str, fontsize=7)\n",
        "plt.legend()\n",
        "plt.savefig(result_dir+\"fig_\"+method+\"_\"+geometry+\".png\")\n",
        "plt.show()"
      ]
    },
    {
      "cell_type": "code",
      "execution_count": null,
      "metadata": {},
      "outputs": [],
      "source": []
    }
  ],
  "metadata": {
    "colab": {
      "provenance": [],
      "toc_visible": true
    },
    "kernelspec": {
      "display_name": "phifem",
      "language": "python",
      "name": "python3"
    },
    "language_info": {
      "codemirror_mode": {
        "name": "ipython",
        "version": 3
      },
      "file_extension": ".py",
      "mimetype": "text/x-python",
      "name": "python",
      "nbconvert_exporter": "python",
      "pygments_lexer": "ipython3",
      "version": "3.9.16"
    },
    "orig_nbformat": 4
  },
  "nbformat": 4,
  "nbformat_minor": 0
}

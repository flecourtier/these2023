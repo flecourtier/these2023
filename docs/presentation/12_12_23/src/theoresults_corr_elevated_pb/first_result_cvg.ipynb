{
  "cells": [
    {
      "attachments": {},
      "cell_type": "markdown",
      "metadata": {
        "id": "msyPYqBMaewY"
      },
      "source": [
        "# Correction on a disturbed solution"
      ]
    },
    {
      "cell_type": "code",
      "execution_count": 1,
      "metadata": {},
      "outputs": [],
      "source": [
        "import sys\n",
        "sys.path.append('../')"
      ]
    },
    {
      "cell_type": "code",
      "execution_count": 6,
      "metadata": {},
      "outputs": [],
      "source": [
        "from utils import *\n",
        "config = read_json_file()\n",
        "\n",
        "method = \"fem\"\n",
        "from solver_fem import *\n",
        "ClassSolver = FEMSolver\n",
        "\n",
        "geometry = config[\"geometry\"]\n",
        "if geometry == \"circle\":\n",
        "    from data_circle import *\n",
        "    int_a = 0.0\n",
        "    int_b = 1.0\n",
        "elif geometry == \"square\":\n",
        "    from data_square import *\n",
        "    int_a = -0.5\n",
        "    int_b = 1.5\n",
        "\n",
        "# homogeneous = config[\"homogeneous\"]\n",
        "homogeneous = 1\n",
        "S,Sp = (0.5,0.5)\n",
        "pp = 0.\n",
        "if homogeneous:\n",
        "    p = 0.\n",
        "else:\n",
        "    p = 1."
      ]
    },
    {
      "cell_type": "code",
      "execution_count": 41,
      "metadata": {},
      "outputs": [],
      "source": [
        "import os\n",
        "\n",
        "# result_dir = \"results/\"\n",
        "# if not os.path.exists(result_dir):\n",
        "#     os.makedirs(result_dir)\n",
        "\n",
        "# if homogeneous:\n",
        "#     result_dir += \"homogeneous/\"\n",
        "#     if not os.path.exists(result_dir):\n",
        "#         os.makedirs(result_dir)\n",
        "# else:\n",
        "#     result_dir += \"non_homogeneous/\"\n",
        "#     if not os.path.exists(result_dir):\n",
        "#         os.makedirs(result_dir)\n",
        "# result_dir += method+\"_\"+geometry+\"/\"\n",
        "# if not os.path.exists(result_dir):\n",
        "#         os.makedirs(result_dir)\n",
        "# print(result_dir)\n",
        "\n",
        "result_dir = \"results/first_results_cvg/\"\n",
        "if not os.path.exists(result_dir):\n",
        "    os.makedirs(result_dir)"
      ]
    },
    {
      "cell_type": "code",
      "execution_count": 8,
      "metadata": {},
      "outputs": [],
      "source": [
        "import numpy as np\n",
        "import pandas as pd\n",
        "import cv2\n",
        "import dataframe_image as dfi\n",
        "from dolfin import *\n",
        "\n",
        "# noinspection PyUnresolvedReferences\n",
        "from dolfin import parameters\n",
        "import matplotlib.pyplot as plt\n",
        "\n",
        "parameters[\"ghost_mode\"] = \"shared_facet\"\n",
        "parameters[\"form_compiler\"][\"cpp_optimize\"] = True\n",
        "parameters[\"form_compiler\"][\"optimize\"] = True\n",
        "parameters[\"allow_extrapolation\"] = True\n",
        "parameters[\"form_compiler\"][\"representation\"] = \"uflacs\"\n",
        "parameters[\"form_compiler\"][\"quadrature_degree\"] = 10"
      ]
    },
    {
      "attachments": {},
      "cell_type": "markdown",
      "metadata": {
        "id": "vkCLrUb0aeww"
      },
      "source": [
        "## Data"
      ]
    },
    {
      "cell_type": "code",
      "execution_count": 9,
      "metadata": {
        "colab": {
          "base_uri": "https://localhost:8080/",
          "height": 435
        },
        "id": "jQ8Y6H3laewx",
        "outputId": "983bc020-b9c6-48d4-c452-c9ad54700619"
      },
      "outputs": [],
      "source": [
        "def test_omega():\n",
        "    mask = omega_mask(64)\n",
        "    plt.imshow(mask)\n",
        "    plt.colorbar()\n",
        "    plt.show()\n",
        "\n",
        "# test_omega()"
      ]
    },
    {
      "cell_type": "code",
      "execution_count": 10,
      "metadata": {
        "id": "NMcc8ITdaewz"
      },
      "outputs": [],
      "source": [
        "def plot_data(F,U):\n",
        "    mask = omega_mask(100)\n",
        "    plt.figure(figsize=(9,3))\n",
        "\n",
        "    plt.subplot(1,2,1)\n",
        "    plt.imshow(mask * F, origin=\"lower\")\n",
        "    plt.title(\"F\")\n",
        "    plt.colorbar()\n",
        "\n",
        "    plt.subplot(1,2,2)\n",
        "    plt.imshow(mask * U, origin=\"lower\")\n",
        "    plt.title(\"U_ex\")\n",
        "    plt.colorbar()\n",
        "\n",
        "    plt.tight_layout()\n",
        "    plt.show()\n",
        "\n",
        "def test():\n",
        "    f,fp = (4,1)\n",
        "    XXYY = get_vert_coord(nb_vert=100)\n",
        "    F = np.reshape(call_F(np,XXYY,S,f,p),[100,100])\n",
        "    U = np.reshape(call_Y_true(np,XXYY,S,f,p),[100,100])\n",
        "    plot_data(F,U)\n",
        "\n",
        "# test()"
      ]
    },
    {
      "cell_type": "markdown",
      "metadata": {},
      "source": [
        "## Results"
      ]
    },
    {
      "cell_type": "code",
      "execution_count": 15,
      "metadata": {},
      "outputs": [],
      "source": [
        "nb_vert = 32\n",
        "eps = 1e-3\n",
        "tab_m = [0]+[10**i for i in range(5)]\n",
        "tab_m_str = [\"m = \" + str(m) for m in tab_m]"
      ]
    },
    {
      "cell_type": "code",
      "execution_count": 16,
      "metadata": {},
      "outputs": [
        {
          "name": "stdout",
          "output_type": "stream",
          "text": [
            "params :  [[0.5, 3, 0.0], [0.5, 4, 0.0], [0.5, 1, 0.0], [0.5, 1, 0.0]]\n",
            "params_pert :  [[0.5, 1, 0.0], [0.5, 2, 0.0], [0.5, 2, 0.0], [0.5, 4, 0.0]]\n"
          ]
        }
      ],
      "source": [
        "freqs = [[3,1],[4,2],[1,2],[1,4]]\n",
        "params = []\n",
        "params_pert = []\n",
        "for (f,fp) in freqs:\n",
        "    param = [S,f,p]\n",
        "    params.append(param)           \n",
        "    param_pert = [Sp,fp,pp]\n",
        "    params_pert.append(param_pert)\n",
        "print(\"params : \",params)\n",
        "print(\"params_pert : \",params_pert)\n",
        "freqs_str = [\"f = \" + str(f) + \" ; fp = \" + str(fp) for ((S,f,p),(Sp,fp,pp)) in zip(params,params_pert)]\n",
        "freqs_str = np.array(freqs_str)"
      ]
    },
    {
      "cell_type": "code",
      "execution_count": 17,
      "metadata": {},
      "outputs": [],
      "source": [
        "solver = ClassSolver(nb_cell=nb_vert-1, params=params, params_pert=params_pert)"
      ]
    },
    {
      "cell_type": "code",
      "execution_count": null,
      "metadata": {},
      "outputs": [],
      "source": [
        "def test(eps,tab_m):\n",
        "    print(\"eps : \",eps)\n",
        "    tab_errors = []\n",
        "    for i in range(len(params)):\n",
        "        print(\"# i : \",i)\n",
        "        tab_error = []\n",
        "        for m in tab_m:\n",
        "            print(\"## m = \",m)\n",
        "            sol, C_h, norm_L2 = solver.corr_mult(i,eps,m)\n",
        "            print(\"||Y_true-Y_true_corr||_L2\",norm_L2)\n",
        "            tab_error.append(norm_L2)\n",
        "        tab_errors.append(tab_error)\n",
        "        \n",
        "    return np.array(tab_errors)\n",
        "\n",
        "tab_errors = test(eps,tab_m)\n",
        "np.save(result_dir+\"tab_errors_reh_\"+method+\"_\"+geometry+\".npy\",tab_errors)"
      ]
    },
    {
      "cell_type": "code",
      "execution_count": null,
      "metadata": {},
      "outputs": [],
      "source": [
        "def corr_add(eps):\n",
        "    print(\"eps : \",eps)\n",
        "    tab_errors = []\n",
        "    for i in range(len(params)):\n",
        "        print(\"# i : \",i)\n",
        "        sol, C_h, norm_L2 = solver.corr_add(i,eps)\n",
        "        print(\"||Y_true-Y_true_corr||_L2\",norm_L2)\n",
        "        tab_errors.append(norm_L2)\n",
        "        \n",
        "    return np.array(tab_errors)\n",
        "\n",
        "tab_errors_add = corr_add(eps)\n",
        "np.save(result_dir+\"tab_errors_add_\"+method+\"_\"+geometry+\".npy\",tab_errors_add)"
      ]
    },
    {
      "cell_type": "code",
      "execution_count": 35,
      "metadata": {},
      "outputs": [],
      "source": [
        "tab = np.concatenate([tab_errors,tab_errors_add[:,None]],axis=1)\n",
        "np.save(result_dir+\"tab_errors_\"+method+\"_\"+geometry+\".npy\",tab)"
      ]
    },
    {
      "cell_type": "code",
      "execution_count": 36,
      "metadata": {},
      "outputs": [
        {
          "data": {
            "text/html": [
              "<div>\n",
              "<style scoped>\n",
              "    .dataframe tbody tr th:only-of-type {\n",
              "        vertical-align: middle;\n",
              "    }\n",
              "\n",
              "    .dataframe tbody tr th {\n",
              "        vertical-align: top;\n",
              "    }\n",
              "\n",
              "    .dataframe thead th {\n",
              "        text-align: right;\n",
              "    }\n",
              "</style>\n",
              "<table border=\"1\" class=\"dataframe\">\n",
              "  <thead>\n",
              "    <tr style=\"text-align: right;\">\n",
              "      <th></th>\n",
              "      <th></th>\n",
              "      <th>m = 0</th>\n",
              "      <th>m = 1</th>\n",
              "      <th>m = 10</th>\n",
              "      <th>m = 100</th>\n",
              "      <th>m = 1000</th>\n",
              "      <th>m = 10000</th>\n",
              "      <th>Corr_add</th>\n",
              "    </tr>\n",
              "  </thead>\n",
              "  <tbody>\n",
              "    <tr>\n",
              "      <th rowspan=\"2\" valign=\"top\">f &gt; fp</th>\n",
              "      <th>f = 3 ; fp = 1</th>\n",
              "      <td>0.001019</td>\n",
              "      <td>0.000353</td>\n",
              "      <td>0.000024</td>\n",
              "      <td>0.000021</td>\n",
              "      <td>0.000021</td>\n",
              "      <td>0.000021</td>\n",
              "      <td>0.000021</td>\n",
              "    </tr>\n",
              "    <tr>\n",
              "      <th>f = 4 ; fp = 2</th>\n",
              "      <td>0.000965</td>\n",
              "      <td>0.000281</td>\n",
              "      <td>0.000067</td>\n",
              "      <td>0.000066</td>\n",
              "      <td>0.000066</td>\n",
              "      <td>0.000066</td>\n",
              "      <td>0.000066</td>\n",
              "    </tr>\n",
              "    <tr>\n",
              "      <th rowspan=\"2\" valign=\"top\">f &lt; fp</th>\n",
              "      <th>f = 1 ; fp = 2</th>\n",
              "      <td>0.000333</td>\n",
              "      <td>0.000097</td>\n",
              "      <td>0.000068</td>\n",
              "      <td>0.000066</td>\n",
              "      <td>0.000066</td>\n",
              "      <td>0.000066</td>\n",
              "      <td>0.000066</td>\n",
              "    </tr>\n",
              "    <tr>\n",
              "      <th>f = 1 ; fp = 4</th>\n",
              "      <td>0.000715</td>\n",
              "      <td>0.000308</td>\n",
              "      <td>0.000253</td>\n",
              "      <td>0.000250</td>\n",
              "      <td>0.000249</td>\n",
              "      <td>0.000249</td>\n",
              "      <td>0.000249</td>\n",
              "    </tr>\n",
              "  </tbody>\n",
              "</table>\n",
              "</div>"
            ],
            "text/plain": [
              "                          m = 0     m = 1    m = 10   m = 100  m = 1000  \\\n",
              "f > fp f = 3 ; fp = 1  0.001019  0.000353  0.000024  0.000021  0.000021   \n",
              "       f = 4 ; fp = 2  0.000965  0.000281  0.000067  0.000066  0.000066   \n",
              "f < fp f = 1 ; fp = 2  0.000333  0.000097  0.000068  0.000066  0.000066   \n",
              "       f = 1 ; fp = 4  0.000715  0.000308  0.000253  0.000250  0.000249   \n",
              "\n",
              "                       m = 10000  Corr_add  \n",
              "f > fp f = 3 ; fp = 1   0.000021  0.000021  \n",
              "       f = 4 ; fp = 2   0.000066  0.000066  \n",
              "f < fp f = 1 ; fp = 2   0.000066  0.000066  \n",
              "       f = 1 ; fp = 4   0.000249  0.000249  "
            ]
          },
          "execution_count": 36,
          "metadata": {},
          "output_type": "execute_result"
        }
      ],
      "source": [
        "tab_type = [\"f > fp\",\"f < fp\"]\n",
        "tab_type = np.repeat(tab_type,2)\n",
        "index_name = np.stack((tab_type,freqs_str),axis=0)\n",
        "index_name = list(zip(*index_name))\n",
        "index_name = pd.MultiIndex.from_tuples(index_name)\n",
        "df_errors = pd.DataFrame(tab,index=index_name,columns=tab_m_str+[\"Corr_add\"])\n",
        "df_errors"
      ]
    },
    {
      "cell_type": "code",
      "execution_count": 37,
      "metadata": {},
      "outputs": [
        {
          "data": {
            "text/plain": [
              "True"
            ]
          },
          "execution_count": 37,
          "metadata": {},
          "output_type": "execute_result"
        }
      ],
      "source": [
        "img_name = result_dir + \"tab_errors_\"+method+\"_\"+geometry+\".png\"\n",
        "df_styled = df_errors.style.format(\"{:.2e}\").set_properties(**{'background-color': '#ffffb3'}, subset=\"Corr_add\")\n",
        "dfi.export(df_styled,img_name)\n",
        "\n",
        "image = cv2.imread(img_name)\n",
        "image[80,:,:] = 0.0\n",
        "cv2.imwrite(img_name,image)"
      ]
    },
    {
      "cell_type": "code",
      "execution_count": 49,
      "metadata": {},
      "outputs": [
        {
          "data": {
            "image/png": "[encoded data removed]",
            "text/plain": [
              "<Figure size 500x500 with 1 Axes>"
            ]
          },
          "metadata": {},
          "output_type": "display_data"
        }
      ],
      "source": [
        "plt.figure(figsize=(5,5))\n",
        "\n",
        "tab_colors=[\"blue\",\"orange\",\"green\",\"red\"]\n",
        "for (i,freq_str) in enumerate(freqs_str):\n",
        "    plt.semilogy(tab_errors[i],tab_colors[i],label=freq_str)\n",
        "    plt.plot(tab_errors.shape[1]-1,tab_errors_add[i],\"+\",color=tab_colors[i],markersize=20,markeredgewidth=2.5)\n",
        "plt.ylim(np.min(tab_errors)/2,np.max(tab_errors)*2)\n",
        "plt.plot(0,10,\"+\",markersize=10,markeredgewidth=2,color=\"black\",label=\"Corr_add\")\n",
        "\n",
        "plt.title(\"eps = \"+str(eps))\n",
        "plt.xticks(np.arange(0,len(tab_m),1),tab_m_str, fontsize=7)\n",
        "plt.legend()\n",
        "plt.savefig(result_dir+\"fig_\"+method+\"_\"+geometry+\".png\")\n",
        "plt.show()"
      ]
    },
    {
      "cell_type": "code",
      "execution_count": null,
      "metadata": {},
      "outputs": [],
      "source": []
    }
  ],
  "metadata": {
    "colab": {
      "provenance": [],
      "toc_visible": true
    },
    "kernelspec": {
      "display_name": "phifem",
      "language": "python",
      "name": "python3"
    },
    "language_info": {
      "codemirror_mode": {
        "name": "ipython",
        "version": 3
      },
      "file_extension": ".py",
      "mimetype": "text/x-python",
      "name": "python",
      "nbconvert_exporter": "python",
      "pygments_lexer": "ipython3",
      "version": "3.9.16"
    },
    "orig_nbformat": 4
  },
  "nbformat": 4,
  "nbformat_minor": 0
}

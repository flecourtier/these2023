{
  "cells": [
    {
      "attachments": {},
      "cell_type": "markdown",
      "metadata": {
        "id": "msyPYqBMaewY"
      },
      "source": [
        "# Correction on a distrubed solution"
      ]
    },
    {
      "cell_type": "code",
      "execution_count": 1,
      "metadata": {},
      "outputs": [],
      "source": [
        "%load_ext autoreload\n",
        "%autoreload 2"
      ]
    },
    {
      "cell_type": "code",
      "execution_count": 2,
      "metadata": {},
      "outputs": [],
      "source": [
        "import sys\n",
        "sys.path.append('../../')"
      ]
    },
    {
      "cell_type": "code",
      "execution_count": 3,
      "metadata": {},
      "outputs": [
        {
          "name": "stderr",
          "output_type": "stream",
          "text": [
            "bash: /home/lecourtier/anaconda3/envs/env_tensorflow/lib/libtinfo.so.6: no version information available (required by bash)\n",
            "bash: /home/lecourtier/anaconda3/envs/env_tensorflow/lib/libtinfo.so.6: no version information available (required by bash)\n"
          ]
        }
      ],
      "source": [
        "from utils import *\n",
        "config = read_json_file()\n",
        "# method = config[\"method\"]\n",
        "# method = method.lower()\n",
        "method = \"phifem\"\n",
        "if method == \"fem\":\n",
        "    from solver_fem import *\n",
        "    ClassSolver = FEMSolver\n",
        "elif method == \"phifem\":\n",
        "    from solver_phifem import *\n",
        "    ClassSolver = PhiFemSolver\n",
        "else:\n",
        "    raise ValueError(\"Method not recognized\")\n",
        "\n",
        "geometry = config[\"geometry\"]\n",
        "if geometry == \"circle\":\n",
        "    from data_circle import *\n",
        "    int_a = 0.0\n",
        "    int_b = 1.0\n",
        "elif geometry == \"square\":\n",
        "    from data_square import *\n",
        "    int_a = -0.5\n",
        "    int_b = 1.5\n",
        "\n",
        "homogeneous = config[\"homogeneous\"]\n",
        "S,Sp = (0.5,0.5)\n",
        "pp = 0.\n",
        "if homogeneous:\n",
        "    p = 0.\n",
        "else:\n",
        "    p = 1."
      ]
    },
    {
      "cell_type": "code",
      "execution_count": 4,
      "metadata": {},
      "outputs": [
        {
          "name": "stdout",
          "output_type": "stream",
          "text": [
            "results/homogeneous/phifem_circle/\n"
          ]
        }
      ],
      "source": [
        "import os\n",
        "\n",
        "result_dir = \"results/\"\n",
        "if not os.path.exists(result_dir):\n",
        "    os.makedirs(result_dir)\n",
        "\n",
        "if homogeneous:\n",
        "    result_dir += \"homogeneous/\"\n",
        "    if not os.path.exists(result_dir):\n",
        "        os.makedirs(result_dir)\n",
        "else:\n",
        "    result_dir += \"non_homogeneous/\"\n",
        "    if not os.path.exists(result_dir):\n",
        "        os.makedirs(result_dir)\n",
        "result_dir += method+\"_\"+geometry+\"/\"\n",
        "if not os.path.exists(result_dir):\n",
        "        os.makedirs(result_dir)\n",
        "print(result_dir)"
      ]
    },
    {
      "cell_type": "code",
      "execution_count": 5,
      "metadata": {},
      "outputs": [],
      "source": [
        "import numpy as np\n",
        "import pandas as pd\n",
        "import dataframe_image as dfi\n",
        "from dolfin import *\n",
        "\n",
        "import seaborn as sns\n",
        "\n",
        "sns.set_theme(style=\"whitegrid\")\n",
        "# sns.set_context(\"paper\")\n",
        "# sns.set(rc={\"xtick.bottom\": True, \"ytick.left\": True})\n",
        "\n",
        "# noinspection PyUnresolvedReferences\n",
        "from dolfin import parameters\n",
        "import matplotlib.pyplot as plt\n",
        "\n",
        "parameters[\"ghost_mode\"] = \"shared_facet\"\n",
        "parameters[\"form_compiler\"][\"cpp_optimize\"] = True\n",
        "parameters[\"form_compiler\"][\"optimize\"] = True\n",
        "parameters[\"allow_extrapolation\"] = True\n",
        "parameters[\"form_compiler\"][\"representation\"] = \"uflacs\"\n",
        "parameters[\"form_compiler\"][\"quadrature_degree\"] = 10"
      ]
    },
    {
      "attachments": {},
      "cell_type": "markdown",
      "metadata": {
        "id": "vkCLrUb0aeww"
      },
      "source": [
        "## Data"
      ]
    },
    {
      "cell_type": "code",
      "execution_count": 6,
      "metadata": {
        "colab": {
          "base_uri": "https://localhost:8080/",
          "height": 435
        },
        "id": "jQ8Y6H3laewx",
        "outputId": "983bc020-b9c6-48d4-c452-c9ad54700619"
      },
      "outputs": [],
      "source": [
        "def test_omega():\n",
        "    mask = omega_mask(64)\n",
        "    plt.imshow(mask)\n",
        "    plt.colorbar()\n",
        "    plt.show()\n",
        "\n",
        "# test_omega()"
      ]
    },
    {
      "cell_type": "code",
      "execution_count": 7,
      "metadata": {
        "id": "NMcc8ITdaewz"
      },
      "outputs": [],
      "source": [
        "def plot_data(F,U):\n",
        "    mask = omega_mask(100)\n",
        "    plt.figure(figsize=(9,3))\n",
        "\n",
        "    plt.subplot(1,2,1)\n",
        "    plt.imshow(mask * F, origin=\"lower\")\n",
        "    plt.title(\"F\")\n",
        "    plt.colorbar()\n",
        "\n",
        "    plt.subplot(1,2,2)\n",
        "    plt.imshow(mask * U, origin=\"lower\")\n",
        "    plt.title(\"U_ex\")\n",
        "    plt.colorbar()\n",
        "\n",
        "    plt.tight_layout()\n",
        "    plt.show()\n",
        "\n",
        "def test():\n",
        "    f,fp = (4,1)\n",
        "    XXYY = get_vert_coord(nb_vert=100)\n",
        "    F = np.reshape(call_F(np,XXYY,S,f,p),[100,100])\n",
        "    U = np.reshape(call_Y_true(np,XXYY,S,f,p),[100,100])\n",
        "    plot_data(F,U)\n",
        "\n",
        "# test()"
      ]
    },
    {
      "cell_type": "markdown",
      "metadata": {},
      "source": [
        "## Results"
      ]
    },
    {
      "cell_type": "code",
      "execution_count": 18,
      "metadata": {},
      "outputs": [],
      "source": [
        "nb_vert = 32\n",
        "tab_eps = [1]+[10**(-i) for i in range(1,5)]+[0.]\n",
        "eps_str = [\"eps = \" + str(eps) for eps in tab_eps]\n",
        "f,fp = 1,2"
      ]
    },
    {
      "cell_type": "code",
      "execution_count": 19,
      "metadata": {},
      "outputs": [],
      "source": [
        "save_file = result_dir\n",
        "if not os.path.exists(save_file):\n",
        "    os.makedirs(save_file)"
      ]
    },
    {
      "cell_type": "code",
      "execution_count": 20,
      "metadata": {},
      "outputs": [
        {
          "name": "stdout",
          "output_type": "stream",
          "text": [
            "params :  [[0.5, 1, 0.0]]\n",
            "params_pert :  [[0.5, 2, 0.0]]\n"
          ]
        }
      ],
      "source": [
        "params = [[S,f,p]]\n",
        "params_pert = [[Sp,fp,pp]]\n",
        "print(\"params : \",params)\n",
        "print(\"params_pert : \",params_pert)\n",
        "freqs_str = [\"f = \" + str(f) + \" ; fp = \" + str(fp) for ((S,f,p),(Sp,fp,pp)) in zip(params,params_pert)]"
      ]
    },
    {
      "cell_type": "code",
      "execution_count": 21,
      "metadata": {},
      "outputs": [
        {
          "name": "stdout",
          "output_type": "stream",
          "text": [
            "num of cell in the ghost penalty: 150\n"
          ]
        }
      ],
      "source": [
        "solver = ClassSolver(nb_cell=nb_vert-1, params=params, params_pert=params_pert)"
      ]
    },
    {
      "cell_type": "code",
      "execution_count": 22,
      "metadata": {},
      "outputs": [
        {
          "name": "stdout",
          "output_type": "stream",
          "text": [
            "## EPS :  1\n",
            "Solving linear variational problem.\n",
            "## EPS :  0.1\n",
            "Solving linear variational problem.\n",
            "## EPS :  0.01\n",
            "Solving linear variational problem.\n",
            "## EPS :  0.001\n",
            "Solving linear variational problem.\n",
            "## EPS :  0.0001\n",
            "Solving linear variational problem.\n",
            "## EPS :  0.0\n",
            "Solving linear variational problem.\n"
          ]
        }
      ],
      "source": [
        "norms = []\n",
        "for eps in tab_eps:\n",
        "    print(\"## EPS : \",eps)\n",
        "    sol, C_h, norm_L2 = solver.corr_add(0,eps)\n",
        "    norms.append(norm_L2)\n",
        "np.save(save_file+\"norm_phi_tild\", norms)\n",
        "# df_mult = pd.DataFrame(np.transpose(norms_mult),columns=eps_str,index=freqs_str)\n",
        "# df_mult"
      ]
    },
    {
      "cell_type": "code",
      "execution_count": 23,
      "metadata": {},
      "outputs": [
        {
          "data": {
            "text/plain": [
              "<Figure size 640x480 with 0 Axes>"
            ]
          },
          "metadata": {},
          "output_type": "display_data"
        },
        {
          "data": {
            "image/png": "[encoded data removed]",
            "text/plain": [
              "<Figure size 800x400 with 1 Axes>"
            ]
          },
          "metadata": {},
          "output_type": "display_data"
        }
      ],
      "source": [
        "sns.despine(left=True)\n",
        "# sns.set(style=\"ticks\")\n",
        "plt.figure(figsize=(8,4))\n",
        "plt.semilogy(eps_str,norms,\"+-\",label=\"P10\")\n",
        "plt.ylabel(\"norm\")\n",
        "plt.yticks([10**(-i) for i in range(12)])\n",
        "plt.ylim([10**(-12),10**(0)])\n",
        "plt.legend()\n",
        "plt.show()\n",
        "# plt.savefig(save_file+\"norms_P10.png\",bbox_inches='tight')"
      ]
    },
    {
      "cell_type": "code",
      "execution_count": 24,
      "metadata": {},
      "outputs": [],
      "source": [
        "tab_data = np.array([tab_eps,norms])"
      ]
    },
    {
      "cell_type": "code",
      "execution_count": 25,
      "metadata": {},
      "outputs": [],
      "source": [
        "import pandas as pd\n",
        "\n",
        "data = pd.DataFrame(tab_data, index=[\"eps\", \"corr_add\"])\n",
        "data = data.style.set_table_styles([dict(selector='th', props=[('text-align', 'center')])])\n",
        "data.set_properties(**{'text-align': 'center'}).hide(axis='columns')\n",
        "pd.set_option('colheader_justify', 'center')"
      ]
    },
    {
      "cell_type": "code",
      "execution_count": 26,
      "metadata": {},
      "outputs": [
        {
          "data": {
            "text/html": [
              "<style type=\"text/css\">\n",
              "#T_a84ab th {\n",
              "  text-align: center;\n",
              "}\n",
              "#T_a84ab_row0_col0, #T_a84ab_row0_col1, #T_a84ab_row0_col2, #T_a84ab_row0_col3, #T_a84ab_row0_col4, #T_a84ab_row0_col5, #T_a84ab_row1_col0, #T_a84ab_row1_col1, #T_a84ab_row1_col2, #T_a84ab_row1_col3, #T_a84ab_row1_col4, #T_a84ab_row1_col5 {\n",
              "  text-align: center;\n",
              "}\n",
              "</style>\n",
              "<table id=\"T_a84ab\">\n",
              "  <thead>\n",
              "  </thead>\n",
              "  <tbody>\n",
              "    <tr>\n",
              "      <th id=\"T_a84ab_level0_row0\" class=\"row_heading level0 row0\" >eps</th>\n",
              "      <td id=\"T_a84ab_row0_col0\" class=\"data row0 col0\" >1.000000</td>\n",
              "      <td id=\"T_a84ab_row0_col1\" class=\"data row0 col1\" >0.100000</td>\n",
              "      <td id=\"T_a84ab_row0_col2\" class=\"data row0 col2\" >0.010000</td>\n",
              "      <td id=\"T_a84ab_row0_col3\" class=\"data row0 col3\" >0.001000</td>\n",
              "      <td id=\"T_a84ab_row0_col4\" class=\"data row0 col4\" >0.000100</td>\n",
              "      <td id=\"T_a84ab_row0_col5\" class=\"data row0 col5\" >0.000000</td>\n",
              "    </tr>\n",
              "    <tr>\n",
              "      <th id=\"T_a84ab_level0_row1\" class=\"row_heading level0 row1\" >corr_add</th>\n",
              "      <td id=\"T_a84ab_row1_col0\" class=\"data row1 col0\" >0.143091</td>\n",
              "      <td id=\"T_a84ab_row1_col1\" class=\"data row1 col1\" >0.014309</td>\n",
              "      <td id=\"T_a84ab_row1_col2\" class=\"data row1 col2\" >0.001431</td>\n",
              "      <td id=\"T_a84ab_row1_col3\" class=\"data row1 col3\" >0.000143</td>\n",
              "      <td id=\"T_a84ab_row1_col4\" class=\"data row1 col4\" >0.000014</td>\n",
              "      <td id=\"T_a84ab_row1_col5\" class=\"data row1 col5\" >0.000000</td>\n",
              "    </tr>\n",
              "  </tbody>\n",
              "</table>\n"
            ],
            "text/plain": [
              "<pandas.io.formats.style.Styler at 0x7fe4992b13a0>"
            ]
          },
          "execution_count": 26,
          "metadata": {},
          "output_type": "execute_result"
        }
      ],
      "source": [
        "data"
      ]
    },
    {
      "cell_type": "code",
      "execution_count": 17,
      "metadata": {},
      "outputs": [],
      "source": [
        "# df_styled = data.format(\"{:.2e}\")\n",
        "\n",
        "# dfi.export(data, save_file+\"norms.png\", dpi=300)\n"
      ]
    },
    {
      "cell_type": "code",
      "execution_count": null,
      "metadata": {},
      "outputs": [],
      "source": []
    },
    {
      "cell_type": "code",
      "execution_count": null,
      "metadata": {},
      "outputs": [],
      "source": []
    }
  ],
  "metadata": {
    "colab": {
      "provenance": [],
      "toc_visible": true
    },
    "kernelspec": {
      "display_name": "phifem",
      "language": "python",
      "name": "python3"
    },
    "language_info": {
      "codemirror_mode": {
        "name": "ipython",
        "version": 3
      },
      "file_extension": ".py",
      "mimetype": "text/x-python",
      "name": "python",
      "nbconvert_exporter": "python",
      "pygments_lexer": "ipython3",
      "version": "3.9.16"
    },
    "orig_nbformat": 4
  },
  "nbformat": 4,
  "nbformat_minor": 0
}

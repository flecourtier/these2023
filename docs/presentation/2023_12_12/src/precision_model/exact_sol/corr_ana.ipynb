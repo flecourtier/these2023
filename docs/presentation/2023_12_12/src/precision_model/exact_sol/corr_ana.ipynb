{
  "cells": [
    {
      "attachments": {},
      "cell_type": "markdown",
      "metadata": {
        "id": "msyPYqBMaewY"
      },
      "source": [
        "# Correction on an exact solution"
      ]
    },
    {
      "cell_type": "code",
      "execution_count": 1,
      "metadata": {},
      "outputs": [],
      "source": [
        "%load_ext autoreload\n",
        "%autoreload 2"
      ]
    },
    {
      "cell_type": "code",
      "execution_count": 2,
      "metadata": {},
      "outputs": [],
      "source": [
        "import sys\n",
        "sys.path.append('../')"
      ]
    },
    {
      "cell_type": "code",
      "execution_count": 3,
      "metadata": {},
      "outputs": [
        {
          "name": "stderr",
          "output_type": "stream",
          "text": [
            "bash: /home/lecourtier/anaconda3/envs/env_tensorflow/lib/libtinfo.so.6: no version information available (required by bash)\n",
            "bash: /home/lecourtier/anaconda3/envs/env_tensorflow/lib/libtinfo.so.6: no version information available (required by bash)\n"
          ]
        }
      ],
      "source": [
        "from utils import *\n",
        "config = read_json_file()\n",
        "method = config[\"method\"]\n",
        "method = method.lower()\n",
        "if method == \"fem\":\n",
        "    from solver_fem import *\n",
        "    ClassSolver = FEMSolver\n",
        "elif method == \"phifem\":\n",
        "    from solver_phifem import *\n",
        "    ClassSolver = PhiFemSolver\n",
        "else:\n",
        "    raise ValueError(\"Method not recognized\")\n",
        "\n",
        "geometry = config[\"geometry\"]\n",
        "if geometry == \"circle\":\n",
        "    from data_circle import *\n",
        "    int_a = 0.0\n",
        "    int_b = 1.0\n",
        "elif geometry == \"square\":\n",
        "    from data_square import *\n",
        "    int_a = -0.5\n",
        "    int_b = 1.5\n",
        "\n",
        "homogeneous = config[\"homogeneous\"]\n",
        "S = 0.5\n",
        "if homogeneous:\n",
        "    p = 0.\n",
        "else:\n",
        "    p = 1.\n",
        "\n",
        "run = False"
      ]
    },
    {
      "cell_type": "code",
      "execution_count": 4,
      "metadata": {},
      "outputs": [
        {
          "name": "stdout",
          "output_type": "stream",
          "text": [
            "results/homogeneous/nvert_100/tab_errors_fem_circle\n"
          ]
        }
      ],
      "source": [
        "import os\n",
        "\n",
        "result_dir = \"results/\"\n",
        "if not os.path.exists(result_dir):\n",
        "    os.makedirs(result_dir)\n",
        "\n",
        "if homogeneous:\n",
        "    result_dir += \"homogeneous/\"\n",
        "    if not os.path.exists(result_dir):\n",
        "        os.makedirs(result_dir)\n",
        "else:\n",
        "    result_dir += \"non_homogeneous/\"\n",
        "    if not os.path.exists(result_dir):\n",
        "        os.makedirs(result_dir)\n",
        "result_file = result_dir+\"nvert_100/\"+\"tab_errors_\"+method+\"_\"+geometry\n",
        "if not homogeneous:\n",
        "    result_file+=\"_nh\"\n",
        "print(result_file)"
      ]
    },
    {
      "cell_type": "code",
      "execution_count": 5,
      "metadata": {
        "id": "mrIZVlYcaewq",
        "outputId": "b4b20c93-ee7f-4107-905d-1bd3116d87e1"
      },
      "outputs": [],
      "source": [
        "import numpy as np\n",
        "import pandas as pd\n",
        "import dataframe_image as dfi\n",
        "from dolfin import *\n",
        "\n",
        "# noinspection PyUnresolvedReferences\n",
        "from dolfin import parameters\n",
        "import matplotlib.pyplot as plt\n",
        "\n",
        "parameters[\"ghost_mode\"] = \"shared_facet\"\n",
        "parameters[\"form_compiler\"][\"cpp_optimize\"] = True\n",
        "parameters[\"form_compiler\"][\"optimize\"] = True\n",
        "parameters[\"allow_extrapolation\"] = True\n",
        "parameters[\"form_compiler\"][\"representation\"] = \"uflacs\"\n",
        "parameters[\"form_compiler\"][\"quadrature_degree\"] = 10"
      ]
    },
    {
      "attachments": {},
      "cell_type": "markdown",
      "metadata": {
        "id": "vkCLrUb0aeww"
      },
      "source": [
        "## Data"
      ]
    },
    {
      "cell_type": "code",
      "execution_count": 6,
      "metadata": {
        "colab": {
          "base_uri": "https://localhost:8080/",
          "height": 435
        },
        "id": "jQ8Y6H3laewx",
        "outputId": "983bc020-b9c6-48d4-c452-c9ad54700619"
      },
      "outputs": [],
      "source": [
        "def test_omega():\n",
        "    mask = omega_mask(64)\n",
        "    plt.imshow(mask)\n",
        "    plt.colorbar()\n",
        "    plt.show()\n",
        "\n",
        "# test_omega()"
      ]
    },
    {
      "cell_type": "code",
      "execution_count": 7,
      "metadata": {
        "id": "NMcc8ITdaewz"
      },
      "outputs": [],
      "source": [
        "def plot_data(F,U):\n",
        "    mask = omega_mask(64)\n",
        "    plt.figure(figsize=(9,3))\n",
        "\n",
        "    plt.subplot(1,2,1)\n",
        "    plt.imshow(mask * F, origin=\"lower\")\n",
        "    plt.title(\"F\")\n",
        "    plt.colorbar()\n",
        "\n",
        "    plt.subplot(1,2,2)\n",
        "    plt.imshow(mask * U, origin=\"lower\")\n",
        "    plt.title(\"U_ex\")\n",
        "    plt.colorbar()\n",
        "\n",
        "    plt.tight_layout()\n",
        "    plt.show()\n",
        "\n",
        "def test():\n",
        "    f = 1\n",
        "    XXYY = get_vert_coord(nb_vert=64)\n",
        "    F = np.reshape(call_F(np,XXYY,S,f,p),[64,64])\n",
        "    U = np.reshape(call_Y_true(np,XXYY,S,f,p),[64,64])\n",
        "    plot_data(F,U)\n",
        "\n",
        "# test()"
      ]
    },
    {
      "cell_type": "markdown",
      "metadata": {},
      "source": [
        "## Results with differents frequencies"
      ]
    },
    {
      "cell_type": "code",
      "execution_count": 8,
      "metadata": {},
      "outputs": [],
      "source": [
        "freqs = [1,2,3,4]\n",
        "params = [[S,f,p] for f in freqs]\n",
        "\n",
        "nb_vert = 32\n",
        "solver = ClassSolver(nb_cell=nb_vert-1, params=params)\n",
        "\n",
        "if run:\n",
        "    tab_errors = []\n",
        "    for i in range(len(freqs)):\n",
        "        tab = []\n",
        "        sol,norm_L2 = solver.fem(i)\n",
        "        tab.append(norm_L2)\n",
        "        sol,C,norm_L2 = solver.corr_add(i)\n",
        "        tab.append(norm_L2)\n",
        "        sol,C,norm_L2 = solver.corr_add_IPP(i)\n",
        "        tab.append(norm_L2)\n",
        "        sol,C,norm_L2 = solver.corr_mult(i)\n",
        "        tab.append(norm_L2)\n",
        "        tab_errors.append(tab)\n",
        "\n",
        "    np.save(result_file,tab_errors)\n",
        "else:\n",
        "    tab_errors = np.load(result_file+\".npy\")"
      ]
    },
    {
      "cell_type": "code",
      "execution_count": 9,
      "metadata": {},
      "outputs": [
        {
          "data": {
            "text/html": [
              "<div>\n",
              "<style scoped>\n",
              "    .dataframe tbody tr th:only-of-type {\n",
              "        vertical-align: middle;\n",
              "    }\n",
              "\n",
              "    .dataframe tbody tr th {\n",
              "        vertical-align: top;\n",
              "    }\n",
              "\n",
              "    .dataframe thead th {\n",
              "        text-align: right;\n",
              "    }\n",
              "</style>\n",
              "<table border=\"1\" class=\"dataframe\">\n",
              "  <thead>\n",
              "    <tr style=\"text-align: right;\">\n",
              "      <th></th>\n",
              "      <th>fem</th>\n",
              "      <th>Corr_add</th>\n",
              "      <th>Corr_add_IPP</th>\n",
              "      <th>Corr_mult</th>\n",
              "    </tr>\n",
              "  </thead>\n",
              "  <tbody>\n",
              "    <tr>\n",
              "      <th>f = 1</th>\n",
              "      <td>0.002098</td>\n",
              "      <td>2.442384e-10</td>\n",
              "      <td>1.289489e-13</td>\n",
              "      <td>2.968801e-13</td>\n",
              "    </tr>\n",
              "    <tr>\n",
              "      <th>f = 2</th>\n",
              "      <td>0.006622</td>\n",
              "      <td>1.533065e-10</td>\n",
              "      <td>1.277896e-13</td>\n",
              "      <td>2.797110e-13</td>\n",
              "    </tr>\n",
              "    <tr>\n",
              "      <th>f = 3</th>\n",
              "      <td>0.014114</td>\n",
              "      <td>8.857795e-11</td>\n",
              "      <td>1.273200e-13</td>\n",
              "      <td>2.682653e-13</td>\n",
              "    </tr>\n",
              "    <tr>\n",
              "      <th>f = 4</th>\n",
              "      <td>0.024228</td>\n",
              "      <td>9.522978e-11</td>\n",
              "      <td>1.263057e-13</td>\n",
              "      <td>2.609826e-13</td>\n",
              "    </tr>\n",
              "  </tbody>\n",
              "</table>\n",
              "</div>"
            ],
            "text/plain": [
              "            fem      Corr_add  Corr_add_IPP     Corr_mult\n",
              "f = 1  0.002098  2.442384e-10  1.289489e-13  2.968801e-13\n",
              "f = 2  0.006622  1.533065e-10  1.277896e-13  2.797110e-13\n",
              "f = 3  0.014114  8.857795e-11  1.273200e-13  2.682653e-13\n",
              "f = 4  0.024228  9.522978e-11  1.263057e-13  2.609826e-13"
            ]
          },
          "execution_count": 9,
          "metadata": {},
          "output_type": "execute_result"
        }
      ],
      "source": [
        "columns_name = [method,\"Corr_add\",\"Corr_add_IPP\",\"Corr_mult\"]\n",
        "index_name = [\"f = \"+str(f) for f in freqs]\n",
        "\n",
        "df_errors = pd.DataFrame(data=tab_errors,columns=columns_name,index=index_name)\n",
        "df_errors"
      ]
    },
    {
      "cell_type": "code",
      "execution_count": 10,
      "metadata": {},
      "outputs": [],
      "source": [
        "df_styled = df_errors.style.format(\"{:.2e}\")\n",
        "dfi.export(df_styled,result_file+\".png\",dpi=300)"
      ]
    },
    {
      "cell_type": "code",
      "execution_count": null,
      "metadata": {},
      "outputs": [],
      "source": []
    }
  ],
  "metadata": {
    "colab": {
      "provenance": [],
      "toc_visible": true
    },
    "kernelspec": {
      "display_name": "phifem",
      "language": "python",
      "name": "python3"
    },
    "language_info": {
      "codemirror_mode": {
        "name": "ipython",
        "version": 3
      },
      "file_extension": ".py",
      "mimetype": "text/x-python",
      "name": "python",
      "nbconvert_exporter": "python",
      "pygments_lexer": "ipython3",
      "version": "3.9.16"
    },
    "orig_nbformat": 4
  },
  "nbformat": 4,
  "nbformat_minor": 0
}

{
 "cells": [
  {
   "cell_type": "markdown",
   "metadata": {},
   "source": [
    "# Comparaison de la prediction pour Poisson (sdf apprise) avec solution sur-raffinée FEM"
   ]
  },
  {
   "cell_type": "code",
   "execution_count": 1,
   "metadata": {},
   "outputs": [
    {
     "name": "stdout",
     "output_type": "stream",
     "text": [
      "Using device: cuda\n",
      "cuda devices:        1\n",
      "cuda current device: 0\n",
      "cuda device name:    NVIDIA RTX 2000 Ada Generation Laptop GPU\n",
      "torch loaded; device is cuda\n",
      "torch loaded; device is cuda\n"
     ]
    },
    {
     "name": "stderr",
     "output_type": "stream",
     "text": [
      "hwloc/linux: Ignoring PCI device with non-16bit domain.\n",
      "Pass --enable-32bits-pci-domain to configure to support such devices\n",
      "(warning: it would break the library ABI, don't enable unless really needed).\n"
     ]
    }
   ],
   "source": [
    "import sys\n",
    "import argparse\n",
    "\n",
    "from scar.problem.Case import *\n",
    "from scar.utils import *\n",
    "from scar.equations.run_Poisson2D import *\n",
    "from scar.geometry import Geometry2D\n",
    "\n",
    "import dolfin as df\n",
    "from dolfin import *\n",
    "import mshr"
   ]
  },
  {
   "cell_type": "markdown",
   "metadata": {},
   "source": [
    "## Get FEM solution"
   ]
  },
  {
   "cell_type": "code",
   "execution_count": 2,
   "metadata": {},
   "outputs": [],
   "source": [
    "geom_class_name = \"Bean\"\n",
    "geom_class = get_class(geom_class_name,Geometry2D)\n",
    "form = geom_class()"
   ]
  },
  {
   "cell_type": "markdown",
   "metadata": {},
   "source": [
    "### Create mesh"
   ]
  },
  {
   "cell_type": "code",
   "execution_count": 3,
   "metadata": {},
   "outputs": [],
   "source": [
    "def dist(pt1,pt2):\n",
    "    return np.sqrt((pt1[0]-pt2[0])**2+(pt1[1]-pt2[1])**2)\n",
    "\n",
    "def tri(c_t):\n",
    "    n_bc_points = c_t.shape[0]\n",
    "    c_t_tri = [c_t[0,:]]\n",
    "    c_t = np.delete(c_t,0,axis=0)\n",
    "    for _ in range(1,n_bc_points):\n",
    "        pt1 = c_t_tri[-1]\n",
    "        # point le plus proche de pt1\n",
    "        dist_pts = [dist(pt1,c_t[i,:]) for i in range(len(c_t))]\n",
    "        i_min = np.argmin(dist_pts)\n",
    "        c_t_tri.append(c_t[i_min,:])\n",
    "        c_t = np.delete(c_t,i_min,axis=0)\n",
    "    return np.array(c_t_tri)"
   ]
  },
  {
   "cell_type": "code",
   "execution_count": 20,
   "metadata": {},
   "outputs": [],
   "source": [
    "n_bc_points = 30\n",
    "t = np.linspace(0,1,n_bc_points)\n",
    "c_t = form.c(t)\n",
    "c_t = np.array(c_t.T)"
   ]
  },
  {
   "cell_type": "code",
   "execution_count": 21,
   "metadata": {},
   "outputs": [
    {
     "data": {
      "image/png": "[encoded data removed]",
      "text/plain": [
       "<Figure size 640x480 with 1 Axes>"
      ]
     },
     "metadata": {},
     "output_type": "display_data"
    }
   ],
   "source": [
    "c_t_tri = tri(c_t)\n",
    "c_t_tri = np.concatenate([c_t_tri,np.array([c_t_tri[0]])],axis=0)\n",
    "\n",
    "# plot\n",
    "plt.plot(c_t_tri[:,0],c_t_tri[:,1],\"-+\")\n",
    "plt.show()"
   ]
  },
  {
   "cell_type": "code",
   "execution_count": 22,
   "metadata": {},
   "outputs": [
    {
     "data": {
      "text/plain": [
       "array([2.44929360e-16, 1.10303328e-01, 1.25318775e-01, 1.36768215e-01,\n",
       "       1.33790587e-01, 1.14456722e-01, 8.43305159e-02, 5.96159741e-02,\n",
       "       6.56474849e-02, 9.19207916e-02, 1.14956039e-01, 1.26699922e-01,\n",
       "       1.26951095e-01, 1.19751447e-01, 1.11394629e-01, 1.07802119e-01,\n",
       "       1.11451531e-01, 1.21003309e-01, 1.34227763e-01, 1.50028832e-01,\n",
       "       1.68100184e-01, 1.87677509e-01, 2.06623739e-01, 2.21350000e-01,\n",
       "       2.27564529e-01, 2.21577812e-01, 2.01843684e-01, 1.70540995e-01,\n",
       "       1.35338792e-01, 1.10831583e-01])"
      ]
     },
     "execution_count": 22,
     "metadata": {},
     "output_type": "execute_result"
    }
   ],
   "source": [
    "dist_2pts = [dist(c_t_tri[i,:],c_t_tri[i+1,:]) for i in range(n_bc_points)]\n",
    "dist_2pts = np.array(dist_2pts)\n",
    "dist_2pts"
   ]
  },
  {
   "cell_type": "code",
   "execution_count": 23,
   "metadata": {},
   "outputs": [
    {
     "data": {
      "text/plain": [
       "0.05035156654584632"
      ]
     },
     "execution_count": 23,
     "metadata": {},
     "output_type": "execute_result"
    }
   ],
   "source": [
    "# ecart type\n",
    "np.std(dist_2pts)"
   ]
  },
  {
   "cell_type": "code",
   "execution_count": null,
   "metadata": {},
   "outputs": [],
   "source": [
    "class Bean(ParametricCurves):\n",
    "    def __init__(self,a=3,b=5):\n",
    "        self.name = self.__class__.__name__\n",
    "        self.bord_a,self.bord_b = (-0.5,1.5)\n",
    "        self.bord_a2,self.bord_b2 = (-1.5,0.5)\n",
    "        self.a = a\n",
    "        self.b = b\n",
    "        self.theta = -np.pi/2\n",
    "    \n",
    "    def R(self):\n",
    "        # rot = np.array([[np.cos(self.theta),-np.sin(self.theta)],[np.sin(self.theta),np.cos(self.theta)]])\n",
    "        rot = torch.Tensor([[np.cos(self.theta),-np.sin(self.theta)],[np.sin(self.theta),np.cos(self.theta)]])\n",
    "        return rot\n",
    "    \n",
    "    def c(self,t):\n",
    "        x = (np.sin(2*np.pi*t)**self.a+np.cos(2*np.pi*t)**self.b)*np.cos(2*np.pi*t)\n",
    "        y = (np.sin(2*np.pi*t)**self.a+np.cos(2*np.pi*t)**self.b)*np.sin(2*np.pi*t)\n",
    "\n",
    "        # return self.R() @ np.array([x,y])\n",
    "        return self.R()@torch.Tensor([x,y])\n",
    "    \n",
    "    def c_prime(self, t):\n",
    "        x = (2*np.pi*self.a*np.sin(2*np.pi*t)**(self.a-1)*np.cos(2*np.pi*t) - 2*np.pi*self.b*np.sin(2*np.pi*t)*np.cos(2*np.pi*t)**(self.b-1))*np.cos(2*np.pi*t) - 2*np.pi*(np.sin(2*np.pi*t)**self.a + np.cos(2*np.pi*t)**self.b)*np.sin(2*np.pi*t)\n",
    "\n",
    "        y = (2*np.pi*self.a*np.sin(2*np.pi*t)**(self.a-1)*np.cos(2*np.pi*t) - 2*np.pi*self.b*np.sin(2*np.pi*t)*np.cos(2*np.pi*t)**(self.b-1))*np.sin(2*np.pi*t) + 2*np.pi*(np.sin(2*np.pi*t)**self.a + np.cos(2*np.pi*t)**self.b)*np.cos(2*np.pi*t)\n",
    "\n",
    "        # return self.R() @ np.array([x,y])\n",
    "        return self.R()@torch.Tensor([x,y])"
   ]
  }
 ],
 "metadata": {
  "kernelspec": {
   "display_name": "phifem_scimba",
   "language": "python",
   "name": "python3"
  },
  "language_info": {
   "codemirror_mode": {
    "name": "ipython",
    "version": 3
   },
   "file_extension": ".py",
   "mimetype": "text/x-python",
   "name": "python",
   "nbconvert_exporter": "python",
   "pygments_lexer": "ipython3",
   "version": "3.9.16"
  }
 },
 "nbformat": 4,
 "nbformat_minor": 2
}

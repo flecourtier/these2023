{
 "cells": [
  {
   "cell_type": "code",
   "execution_count": 1,
   "metadata": {},
   "outputs": [],
   "source": [
    "import numpy as np\n",
    "import pygmsh\n",
    "\n",
    "from scar.geometry.Geometry2D import *"
   ]
  },
  {
   "cell_type": "code",
   "execution_count": 2,
   "metadata": {},
   "outputs": [],
   "source": [
    "def dist(pt1,pt2):\n",
    "    return np.sqrt((pt1[0]-pt2[0])**2+(pt1[1]-pt2[1])**2)\n",
    "\n",
    "def tri(c_t):\n",
    "    n_bc_points = c_t.shape[0]\n",
    "    c_t_tri = [c_t[0,:]]\n",
    "    c_t = np.delete(c_t,0,axis=0)\n",
    "    for _ in range(1,n_bc_points):\n",
    "        pt1 = c_t_tri[-1]\n",
    "        # point le plus proche de pt1\n",
    "        dist_pts = [dist(pt1,c_t[i,:]) for i in range(len(c_t))]\n",
    "        i_min = np.argmin(dist_pts)\n",
    "        c_t_tri.append(c_t[i_min,:])\n",
    "        c_t = np.delete(c_t,i_min,axis=0)\n",
    "    return np.array(c_t_tri)"
   ]
  },
  {
   "cell_type": "code",
   "execution_count": 3,
   "metadata": {},
   "outputs": [
    {
     "name": "stderr",
     "output_type": "stream",
     "text": [
      "/home/flecourtier/Bureau/Thèse/src/scar/geometry/Geometry2D.py:147: UserWarning: Creating a tensor from a list of numpy.ndarrays is extremely slow. Please consider converting the list to a single numpy.ndarray with numpy.array() before converting to a tensor. (Triggered internally at /opt/conda/conda-bld/pytorch_1702400441250/work/torch/csrc/utils/tensor_new.cpp:261.)\n",
      "  return self.R()@torch.Tensor([x,y])\n"
     ]
    }
   ],
   "source": [
    "form = Bean()\n",
    "\n",
    "n_bc_points = 100\n",
    "t = np.linspace(0,1,n_bc_points)\n",
    "c_t = form.c(t)\n",
    "c_t = np.array(c_t.T)\n",
    "c_t = c_t[:-1,:]\n",
    "\n",
    "c_t_tri = tri(c_t)\n",
    "# c_t_tri = np.concatenate([c_t_tri,np.array([c_t_tri[0]])],axis=0)"
   ]
  },
  {
   "cell_type": "code",
   "execution_count": 5,
   "metadata": {},
   "outputs": [],
   "source": [
    "# # plot polygon (sorted and unsorted)\n",
    "# fig,axs = plt.subplots(1,2,figsize=(10,5))\n",
    "# for i in range(n_bc_points-1):\n",
    "#     axs[0].plot([c_t[i,0],c_t[i+1,0]],[c_t[i,1],c_t[i+1,1]],\"black\",linewidth=3)\n",
    "#     axs[1].plot([c_t_tri[i,0],c_t_tri[i+1,0]],[c_t_tri[i,1],c_t_tri[i+1,1]],\"black\",linewidth=3)\n",
    "# axs[1].plot([c_t_tri[-2,0],c_t_tri[-1,0]],[c_t_tri[-2,1],c_t_tri[-1,1]],\"black\",linewidth=3)"
   ]
  },
  {
   "cell_type": "code",
   "execution_count": 6,
   "metadata": {},
   "outputs": [],
   "source": [
    "# create polygonal domain with pygmsh\n",
    "\n",
    "with pygmsh.geo.Geometry() as geom:\n",
    "\n",
    "    # poly1 = geom.add_polygon([\n",
    "    #     [0.0, 0.0, 0.0],\n",
    "    #     [0.0, 1.0, 0.0],\n",
    "    #     [1.0, 1.0, 0.0],\n",
    "    #     [1.0, 0.0, 0.0],\n",
    "    #     ],\n",
    "    #     mesh_size=0.1\n",
    "    # )\n",
    "    geom.add_polygon(\n",
    "        c_t_tri,\n",
    "        mesh_size=0.5,\n",
    "    )\n",
    "    mesh = geom.generate_mesh()\n",
    "\n",
    "# with pygmsh.geo.Geometry() as geom:\n",
    "#     geom.add_circle([0.0, 0.0], 1.0, mesh_size=0.2)\n",
    "#     mesh = geom.generate_mesh()\n"
   ]
  },
  {
   "cell_type": "code",
   "execution_count": 7,
   "metadata": {},
   "outputs": [],
   "source": [
    "mesh.write(\"test_bean.vtk\")"
   ]
  },
  {
   "cell_type": "code",
   "execution_count": null,
   "metadata": {},
   "outputs": [],
   "source": []
  }
 ],
 "metadata": {
  "kernelspec": {
   "display_name": "phifem_scimba",
   "language": "python",
   "name": "python3"
  },
  "language_info": {
   "codemirror_mode": {
    "name": "ipython",
    "version": 3
   },
   "file_extension": ".py",
   "mimetype": "text/x-python",
   "name": "python",
   "nbconvert_exporter": "python",
   "pygments_lexer": "ipython3",
   "version": "3.9.16"
  }
 },
 "nbformat": 4,
 "nbformat_minor": 2
}

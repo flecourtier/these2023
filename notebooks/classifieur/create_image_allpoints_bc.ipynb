{
 "cells": [
  {
   "cell_type": "markdown",
   "metadata": {},
   "source": [
    "## Import"
   ]
  },
  {
   "cell_type": "code",
   "execution_count": 183,
   "metadata": {},
   "outputs": [
    {
     "data": {
      "text/plain": [
       "PosixPath('/home/flecourtier/Bureau/Thèse')"
      ]
     },
     "execution_count": 183,
     "metadata": {},
     "output_type": "execute_result"
    }
   ],
   "source": [
    "from pathlib import Path\n",
    "\n",
    "current = Path.cwd().parent.parent\n",
    "current"
   ]
  },
  {
   "cell_type": "code",
   "execution_count": 184,
   "metadata": {},
   "outputs": [
    {
     "name": "stdout",
     "output_type": "stream",
     "text": [
      "The autoreload extension is already loaded. To reload it, use:\n",
      "  %reload_ext autoreload\n"
     ]
    }
   ],
   "source": [
    "%load_ext autoreload\n",
    "%autoreload 2"
   ]
  },
  {
   "cell_type": "code",
   "execution_count": 185,
   "metadata": {},
   "outputs": [],
   "source": [
    "from scimba.equations.domain import SpaceTensor\n",
    "from scar.geometry.StandardMesh import create_test_sample\n",
    "from scar.utils import read_config,create_tree,get_class\n",
    "from scar.equations.run_EikonalLap2D import *\n",
    "from scar.geometry import Geometry2D\n",
    "\n",
    "# from scar.solver.solver_fem import FEMSolver\n",
    "# from scar.solver.solver_phifem import PhiFemSolver\n",
    "# from scar.correction.correct_pred import *\n",
    "\n",
    "import torch\n",
    "from torch.autograd import grad as grad_torch\n",
    "import dolfin as df\n",
    "from dolfin import FunctionSpace,Function\n",
    "\n",
    "import matplotlib.pyplot as plt"
   ]
  },
  {
   "cell_type": "code",
   "execution_count": 186,
   "metadata": {},
   "outputs": [],
   "source": [
    "form = \"Bean\"\n",
    "num_config = 3\n",
    "sdf_run = run_EikonalLap2D"
   ]
  },
  {
   "cell_type": "code",
   "execution_count": 187,
   "metadata": {},
   "outputs": [],
   "source": [
    "dir_name = \"../../networks/EikonalLap2D/\"+form+\"/\"\n",
    "models_dir = dir_name+\"models/\"\n",
    "config_filename = models_dir+\"config_\"+str(num_config)+\".json\"\n",
    "model_filename = models_dir+\"model_\"+str(num_config)+\".pth\""
   ]
  },
  {
   "cell_type": "markdown",
   "metadata": {},
   "source": [
    "## Mask"
   ]
  },
  {
   "cell_type": "code",
   "execution_count": 188,
   "metadata": {},
   "outputs": [],
   "source": [
    "geom_class = get_class(form,Geometry2D)\n",
    "form = geom_class()"
   ]
  },
  {
   "cell_type": "code",
   "execution_count": 189,
   "metadata": {},
   "outputs": [
    {
     "name": "stdout",
     "output_type": "stream",
     "text": [
      "bc_points.shape = (2000, 2), bc_normals.shape = (2000, 2)\n",
      ">> load network /home/flecourtier/Bureau/Thèse/networks/EikonalLap2D/Bean/models/model_3.pth\n",
      "jsbdbshd\n"
     ]
    }
   ],
   "source": [
    "dict_config = read_config(config_filename)\n",
    "eik,trainer = sdf_run(form,num_config,dict_config,new_training = False,createxyzfile=False)\n",
    "plt.close('all')"
   ]
  },
  {
   "cell_type": "code",
   "execution_count": 190,
   "metadata": {},
   "outputs": [],
   "source": [
    "def create_mask(nb_vert=10):\n",
    "    x = np.linspace(form.bord_a, form.bord_b, nb_vert)\n",
    "    y = np.linspace(form.bord_a2, form.bord_b2, nb_vert)\n",
    "    XXYY = np.meshgrid(x,y)\n",
    "    XXYY_ = np.array(XXYY).reshape(2,-1).T\n",
    "    X_test,mu_test = create_test_sample(XXYY_,trainer.pde.parameter_domain)\n",
    "    \n",
    "    pred = eik(X_test,mu_test)\n",
    "    pred = pred.reshape(nb_vert,nb_vert).cpu().detach().numpy()\n",
    "    \n",
    "    mask = np.zeros((nb_vert,nb_vert),dtype=int)\n",
    "    for i in range(nb_vert):\n",
    "        for j in range(nb_vert):\n",
    "            if pred[i,j] < 0.:\n",
    "                mask[i,j] = 1\n",
    "                \n",
    "    return mask,XXYY\n",
    "\n",
    "nb_vert = 200\n",
    "mask,XXYY = create_mask(nb_vert)\n",
    "XX,YY = XXYY"
   ]
  },
  {
   "cell_type": "code",
   "execution_count": 191,
   "metadata": {},
   "outputs": [],
   "source": [
    "# plt.figure()\n",
    "# for i in range(nb_vert):\n",
    "#     for j in range(nb_vert):\n",
    "#         if mask[i,j] == 1:\n",
    "#             plt.plot(XX[i,j],YY[i,j],'r+')  \n",
    "#         else:\n",
    "#             plt.plot(XX[i,j],YY[i,j],'b+')\n",
    "# plt.show()"
   ]
  },
  {
   "cell_type": "code",
   "execution_count": 192,
   "metadata": {},
   "outputs": [],
   "source": [
    "# creer un padding pour le masque (-1)\n",
    "mask_pad = -np.ones((nb_vert+2,nb_vert+2),dtype=int)\n",
    "mask_pad[1:-1,1:-1] = mask\n"
   ]
  },
  {
   "cell_type": "code",
   "execution_count": 193,
   "metadata": {},
   "outputs": [],
   "source": [
    "def is_bc(i,j,mask):\n",
    "    # (i,j) est 1\n",
    "    # au moins 1 des ses 4 voisins est 0\n",
    "    \n",
    "    if mask[i,j] == 1:\n",
    "        if mask[i-1,j] == 0 or mask[i+1,j] == 0 or mask[i,j-1] == 0 or mask[i,j+1] == 0:\n",
    "            return True\n",
    "    return False\n",
    "\n",
    "# on mets les bc à 2\n",
    "def set_bc(ind_bc,mask):\n",
    "    for (i,j) in ind_bc:\n",
    "        mask[i,j] = 2\n",
    "    return mask\n"
   ]
  },
  {
   "cell_type": "code",
   "execution_count": 194,
   "metadata": {},
   "outputs": [],
   "source": [
    "bc_ind = []\n",
    "bc_points = []\n",
    "# looking for coordinates of the boundary\n",
    "for i in range(1,nb_vert+1):\n",
    "    for j in range(1,nb_vert+1):\n",
    "        if is_bc(i,j,mask_pad):\n",
    "            bc_ind.append((i,j))\n",
    "            bc_points.append((XX[i-1,j-1],YY[i-1,j-1]))"
   ]
  },
  {
   "cell_type": "code",
   "execution_count": 195,
   "metadata": {},
   "outputs": [],
   "source": [
    "for i,j in bc_ind:\n",
    "    mask_pad = set_bc(bc_ind,mask_pad)"
   ]
  },
  {
   "cell_type": "code",
   "execution_count": 196,
   "metadata": {},
   "outputs": [],
   "source": [
    "int_ind = []\n",
    "int_points = []\n",
    "ext_ind = []\n",
    "ext_points = []\n",
    "for i in range(1,nb_vert+1):\n",
    "    for j in range(1,nb_vert+1):\n",
    "        if mask_pad[i,j] == 1:\n",
    "            int_ind.append((i,j))\n",
    "            int_points.append((XX[i-1,j-1],YY[i-1,j-1]))\n",
    "        elif mask_pad[i,j] == 0:\n",
    "            ext_ind.append((i,j))\n",
    "            ext_points.append((XX[i-1,j-1],YY[i-1,j-1]))"
   ]
  },
  {
   "cell_type": "code",
   "execution_count": 197,
   "metadata": {},
   "outputs": [
    {
     "data": {
      "image/png": "[encoded data removed]",
      "text/plain": [
       "<Figure size 640x480 with 1 Axes>"
      ]
     },
     "metadata": {},
     "output_type": "display_data"
    }
   ],
   "source": [
    "plt.figure()\n",
    "plt.plot([p[0] for p in bc_points],[p[1] for p in bc_points],'r+',label='boundary')\n",
    "plt.plot([p[0] for p in int_points],[p[1] for p in int_points],'b+',label='interior')\n",
    "plt.plot([p[0] for p in ext_points],[p[1] for p in ext_points],'g+',label='exterior')\n",
    "# form.plot_curve(color=\"black\")\n",
    "plt.legend()\n",
    "plt.show()"
   ]
  },
  {
   "cell_type": "code",
   "execution_count": 198,
   "metadata": {},
   "outputs": [],
   "source": [
    "mask_pad = mask_pad[1:-1,1:-1]"
   ]
  },
  {
   "cell_type": "code",
   "execution_count": 199,
   "metadata": {},
   "outputs": [],
   "source": [
    "filename = form.__class__.__name__+\"_lv\"+str(num_config)+\"_\"+str(nb_vert)+\"_allbc.npy\"\n",
    "filename = current / \"TestClassifieur\" / \"masks\" / filename\n",
    "np.save(filename,mask_pad)"
   ]
  },
  {
   "cell_type": "code",
   "execution_count": null,
   "metadata": {},
   "outputs": [],
   "source": []
  }
 ],
 "metadata": {
  "kernelspec": {
   "display_name": "phifem_scimba_2",
   "language": "python",
   "name": "python3"
  },
  "language_info": {
   "codemirror_mode": {
    "name": "ipython",
    "version": 3
   },
   "file_extension": ".py",
   "mimetype": "text/x-python",
   "name": "python",
   "nbconvert_exporter": "python",
   "pygments_lexer": "ipython3",
   "version": "3.9.16"
  }
 },
 "nbformat": 4,
 "nbformat_minor": 2
}
